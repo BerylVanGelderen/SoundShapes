{
 "cells": [
  {
   "cell_type": "markdown",
   "source": [
    "# Feature extraction\n",
    "Input: audio files\n",
    "Output: metadata including content-derived metadata\n"
   ],
   "metadata": {
    "collapsed": false
   },
   "id": "71d19180d071f4a1"
  },
  {
   "cell_type": "code",
   "execution_count": null,
   "id": "a92cfe584b35b7c6",
   "metadata": {
    "collapsed": true
   },
   "outputs": [],
   "source": [
    "import librosa\n",
    "import pandas as pd\n",
    "import os\n",
    "import numpy as np\n",
    "\n",
    "# In the preprocess module, I've declared most of my functions.\n",
    "import preprocess\n",
    "import importlib\n",
    "importlib.reload(preprocess)\n",
    "\n",
    "pd.set_option('display.float_format', lambda x: f'{x:.3f}')"
   ]
  },
  {
   "cell_type": "markdown",
   "source": [
    "## Timbre extraction"
   ],
   "metadata": {
    "collapsed": false
   },
   "id": "43b1313102f2202f"
  },
  {
   "cell_type": "code",
   "execution_count": null,
   "outputs": [],
   "source": [
    "# Define filepaths\n",
    "metadata_filepath = '../dataset/SpotifyAudioFeaturesApril2019_scraped_selection.csv'\n",
    "mp3_folder = '../user_evaluation_app/static/mp3_previews'\n",
    "mp3_files = [os.path.join(mp3_folder, file) for file in os.listdir(mp3_folder) if file.endswith('.mp3')]\n",
    "mp3_ids = [file for file in os.listdir(mp3_folder) if file.endswith('.mp3')]\n",
    "# remove .mp3 extension\n",
    "mp3_ids = [file[:-4] for file in mp3_ids]\n",
    "\n",
    "data_folder = 'clmr_predictions'\n"
   ],
   "metadata": {
    "collapsed": false
   },
   "id": "5f817893d4f0fc48"
  },
  {
   "cell_type": "code",
   "execution_count": null,
   "outputs": [],
   "source": [
    "clmr_predictions = preprocess.load_dataframe_if_exists_else_process_and_save(data_folder, mp3_files, preprocess.process_audio_files_CLMR, preprocess.save_dataframe_to_csv)\n",
    "clmr_predictions"
   ],
   "metadata": {
    "collapsed": false
   },
   "id": "252a31dca1b94031"
  },
  {
   "cell_type": "code",
   "execution_count": null,
   "outputs": [],
   "source": [
    "# Load metadata\n",
    "metadata = pd.read_csv(metadata_filepath)\n",
    "metadata"
   ],
   "metadata": {
    "collapsed": false
   },
   "id": "58606b9ec6747dcf"
  },
  {
   "cell_type": "markdown",
   "source": [
    "## Energy/arousal extraction"
   ],
   "metadata": {
    "collapsed": false
   },
   "id": "b573d617092ef394"
  },
  {
   "cell_type": "code",
   "execution_count": null,
   "outputs": [],
   "source": [
    "n_files = len(mp3_ids)\n",
    "\n",
    "rms_energy_values = np.zeros(n_files)\n",
    "contrast_values = np.zeros(n_files)\n",
    "dynamic_range_values = np.zeros(n_files)\n",
    "\n",
    "for i, id in enumerate(mp3_ids):\n",
    "    y, sr = librosa.load(f'{mp3_folder}/{id}.mp3')\n",
    "    rms_energy = librosa.feature.rms(y=y).mean()\n",
    "    spectral_contrast = librosa.feature.spectral_contrast(y=y, sr=sr).mean(axis=1)\n",
    "    contrast_avg = np.mean(spectral_contrast)\n",
    "    rms_energy_frames = librosa.feature.rms(y=y)\n",
    "    dynamic_range = np.max(rms_energy_frames) - np.min(rms_energy_frames)\n",
    "    spotify_energy = metadata.loc[metadata['track_id'] == id, 'energy'].values[0]\n",
    "\n",
    "    # Store results\n",
    "    rms_energy_values[i] = rms_energy\n",
    "    contrast_values[i] = contrast_avg\n",
    "    dynamic_range_values[i] = dynamic_range\n",
    "\n",
    "# Create a DataFrame\n",
    "energy_features_unscaled = pd.DataFrame({\n",
    "    'track_id' : mp3_ids,\n",
    "    'RMS Energy': rms_energy_values,\n",
    "    'Spectral Contrast': contrast_values,\n",
    "    'Dynamic Range': dynamic_range_values,\n",
    "})\n"
   ],
   "metadata": {
    "collapsed": false
   },
   "id": "455279a682c022ac"
  },
  {
   "cell_type": "code",
   "execution_count": null,
   "outputs": [],
   "source": [
    "energy_features_unscaled.describe()"
   ],
   "metadata": {
    "collapsed": false
   },
   "id": "1323381ad3b0b698"
  },
  {
   "cell_type": "markdown",
   "source": [
    "Normalize audio features to a scale from 0 to 1 (or 1 to 0, in the case of spectral contrast) but keep the original values for comparison."
   ],
   "metadata": {
    "collapsed": false
   },
   "id": "4b7d28b3b4f6b401"
  },
  {
   "cell_type": "code",
   "execution_count": null,
   "outputs": [],
   "source": [
    "# Manual scaling\n",
    "energy_features_scaled = energy_features_unscaled.copy()\n",
    "energy_features_scaled['RMS Energy Scaled'] = (energy_features_scaled['RMS Energy'] - energy_features_scaled['RMS Energy'].min()) / (energy_features_scaled['RMS Energy'].max() - energy_features_scaled['RMS Energy'].min())  \n",
    "energy_features_scaled['Dynamic Range Scaled'] = (energy_features_scaled['Dynamic Range'] - energy_features_scaled['Dynamic Range'].min()) / (energy_features_scaled['Dynamic Range'].max() - energy_features_scaled['Dynamic Range'].min())  \n",
    "energy_features_scaled['Spectral Contrast Scaled'] = 1 - (energy_features_scaled['Spectral Contrast'] - energy_features_scaled['Spectral Contrast'].min()) / (energy_features_scaled['Spectral Contrast'].max() - energy_features_scaled['Spectral Contrast'].min())\n",
    "\n",
    "energy_features_scaled.drop(columns=['RMS Energy', 'Spectral Contrast', 'Dynamic Range'], inplace=True)\n",
    "energy_features_scaled.describe()"
   ],
   "metadata": {
    "collapsed": false
   },
   "id": "27d5d7c89a956d3f"
  },
  {
   "cell_type": "code",
   "execution_count": null,
   "outputs": [],
   "source": [
    "merged_df_energy = pd.merge(metadata, energy_features_scaled, on='track_id')\n",
    "# Display the audio features and spotify energy\n",
    "for feature in ['RMS Energy Scaled', 'Spectral Contrast Scaled', 'Dynamic Range Scaled']:\n",
    "    correlation = merged_df_energy['energy'].corr(merged_df_energy[feature])\n",
    "    print(f\"Correlation between Spotify Energy and {feature}: {correlation}\")\n",
    "    if abs(correlation) > 0.7:\n",
    "        print(f\"Very Strong correlation between Spotify Energy and {feature}\")\n",
    "    elif abs(correlation) > 0.5:\n",
    "        print(f\"Strong correlation between Spotify Energy and {feature}\")\n",
    "    elif abs(correlation) > 0.2:\n",
    "        print(f\"Moderate correlation between Spotify Energy and {feature}\")\n",
    "    else:\n",
    "        print(f\"Weak correlation between Spotify Energy and {feature}\")\n",
    "    print(\"--------------------\\n\\n\\n\")"
   ],
   "metadata": {
    "collapsed": false
   },
   "id": "9c01021e3dcd0630"
  },
  {
   "cell_type": "code",
   "execution_count": null,
   "outputs": [],
   "source": [
    "energy_features_scaled_by_factor = energy_features_scaled.copy()\n",
    "energy_features_scaled_by_factor['RMS Energy Scaled'] = energy_features_scaled_by_factor['RMS Energy Scaled'] * 0.78\n",
    "energy_features_scaled_by_factor['Dynamic Range Scaled'] = energy_features_scaled_by_factor['Dynamic Range Scaled'] * 0.54\n",
    "energy_features_scaled_by_factor['Spectral Contrast Scaled'] = energy_features_scaled_by_factor['Spectral Contrast Scaled'] * 0.78"
   ],
   "metadata": {
    "collapsed": false
   },
   "id": "3b77bf1ce13efa4c"
  },
  {
   "cell_type": "code",
   "execution_count": null,
   "outputs": [],
   "source": [
    "energy_feature_summed_unscaled = pd.DataFrame({\n",
    "    'track_id': energy_features_scaled_by_factor['track_id']\n",
    "})\n",
    "energy_feature_summed_unscaled['new_energy'] = energy_features_scaled_by_factor[['RMS Energy Scaled', 'Dynamic Range Scaled', 'Spectral Contrast Scaled']].sum(axis=1)\n",
    "\n",
    "energy_feature_summed_unscaled"
   ],
   "metadata": {
    "collapsed": false
   },
   "id": "5fe826a2cf6173b8"
  },
  {
   "cell_type": "code",
   "execution_count": null,
   "outputs": [],
   "source": [
    "energy_feature_summed_scaled = energy_feature_summed_unscaled.copy()\n",
    "energy_feature_summed_scaled['new_energy'] = (energy_feature_summed_scaled['new_energy'] - energy_feature_summed_scaled['new_energy'].min()) / (energy_feature_summed_scaled['new_energy'].max() - energy_feature_summed_scaled['new_energy'].min())  \n",
    "\n",
    "energy_feature_summed_scaled.describe()"
   ],
   "metadata": {
    "collapsed": false
   },
   "id": "34f3fd6f2b6685a9"
  },
  {
   "cell_type": "code",
   "execution_count": null,
   "outputs": [],
   "source": [
    "merged_df_new_energy = pd.merge(metadata, energy_feature_summed_scaled, on='track_id')\n",
    "# Display the audio features and spotify energy\n",
    "for feature in ['new_energy']:\n",
    "    correlation = merged_df_new_energy['energy'].corr(merged_df_new_energy[feature])\n",
    "    print(f\"Correlation between Spotify Energy and {feature}: {correlation}\")\n",
    "    if abs(correlation) > 0.7:\n",
    "        print(f\"Very Strong correlation between Spotify Energy and {feature}\")\n",
    "    elif abs(correlation) > 0.5:\n",
    "        print(f\"Strong correlation between Spotify Energy and {feature}\")\n",
    "    elif abs(correlation) > 0.2:\n",
    "        print(f\"Moderate correlation between Spotify Energy and {feature}\")\n",
    "    else:\n",
    "        print(f\"Weak correlation between Spotify Energy and {feature}\")\n",
    "    print(\"--------------------\\n\\n\\n\")"
   ],
   "metadata": {
    "collapsed": false
   },
   "id": "1b70269cc1f8fdf4"
  },
  {
   "cell_type": "code",
   "execution_count": null,
   "outputs": [],
   "source": [
    "new_energy_df = energy_feature_summed_scaled.copy()\n",
    "new_energy_df['energy'] = new_energy_df['new_energy']\n",
    "new_energy_df.drop(columns=['new_energy'], inplace=True)\n"
   ],
   "metadata": {
    "collapsed": false
   },
   "id": "5a2d14cc85180564"
  },
  {
   "cell_type": "markdown",
   "source": [
    "# Merge data"
   ],
   "metadata": {
    "collapsed": false
   },
   "id": "f31d53f32594249b"
  },
  {
   "cell_type": "code",
   "execution_count": null,
   "outputs": [],
   "source": [
    "all_metadata_folder = 'audio_features'"
   ],
   "metadata": {
    "collapsed": false
   },
   "id": "700cd5b7b4a70205"
  },
  {
   "cell_type": "code",
   "execution_count": null,
   "outputs": [],
   "source": [
    "# Add prefixes to columns\n",
    "metadata_prefixed = metadata.add_prefix('spotify ')\n",
    "clmr_predictions_prefixed = clmr_predictions.add_prefix('MTT ')\n",
    "\n",
    "# Rename 'track_id' columns back to original names for merging\n",
    "metadata_prefixed = metadata_prefixed.rename(columns={'spotify track_id': 'track_id'})\n",
    "clmr_predictions_prefixed = clmr_predictions_prefixed.rename(columns={'MTT track_id': 'track_id'})\n",
    "\n",
    "# Merge the DataFrames on 'track_id'\n",
    "merged_df = pd.merge(metadata_prefixed, clmr_predictions_prefixed, on=\"track_id\")\n",
    "\n",
    "merged_df = pd.merge(merged_df, new_energy_df, on='track_id')\n",
    "\n",
    "# Set 'track_id' as the index of the merged dataframe\n",
    "merged_df.set_index('track_id', inplace=True)\n",
    "\n",
    "columns_to_remove = ['spotify acousticness', 'spotify danceability',\n",
    "       'spotify instrumentalness', 'spotify key', 'spotify liveness',\n",
    "       'spotify loudness', 'spotify mode', 'spotify speechiness',\n",
    "       'spotify tempo', 'spotify time_signature', 'spotify popularity', \n",
    "                     'spotify energy', 'spotify duration_ms']\n",
    "\n",
    "merged_df.drop(columns=columns_to_remove, inplace=True)\n",
    "\n",
    "duplicates = merged_df.index.duplicated()\n",
    "\n",
    "# Keep the first occurrence and remove subsequent duplicates\n",
    "if duplicates.any():\n",
    "    merged_df = merged_df[~duplicates]\n",
    "\n",
    "merged_df"
   ],
   "metadata": {
    "collapsed": false
   },
   "id": "300dda4bbe83f783"
  },
  {
   "cell_type": "code",
   "execution_count": null,
   "outputs": [],
   "source": [
    "merged_df_loc = preprocess.save_dataframe_to_csv(merged_df, all_metadata_folder)"
   ],
   "metadata": {
    "collapsed": false
   },
   "id": "63ad77898860b955"
  },
  {
   "cell_type": "code",
   "execution_count": null,
   "outputs": [],
   "source": [
    "# load with\n",
    "# pd.read_csv(merged_df_loc, index_col='track_id')"
   ],
   "metadata": {
    "collapsed": false
   },
   "id": "d9b0aca2b56a8e01"
  }
 ],
 "metadata": {
  "kernelspec": {
   "display_name": "Python 3",
   "language": "python",
   "name": "python3"
  },
  "language_info": {
   "codemirror_mode": {
    "name": "ipython",
    "version": 2
   },
   "file_extension": ".py",
   "mimetype": "text/x-python",
   "name": "python",
   "nbconvert_exporter": "python",
   "pygments_lexer": "ipython2",
   "version": "2.7.6"
  }
 },
 "nbformat": 4,
 "nbformat_minor": 5
}
