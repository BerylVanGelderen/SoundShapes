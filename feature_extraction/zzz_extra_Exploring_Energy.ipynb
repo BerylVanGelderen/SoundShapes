{
 "cells": [
  {
   "cell_type": "markdown",
   "source": [
    "# Investigate the relationship between Spotify energy and librosa audio features"
   ],
   "metadata": {
    "collapsed": false
   },
   "id": "fcf48393e5c544e1"
  },
  {
   "cell_type": "code",
   "execution_count": null,
   "id": "initial_id",
   "metadata": {
    "collapsed": true
   },
   "outputs": [],
   "source": [
    "import pandas as pd\n",
    "import os\n",
    "import random\n",
    "import librosa\n",
    "import numpy as np\n",
    "import matplotlib.pyplot as plt\n",
    "from IPython.display import Audio\n",
    "from IPython.display import display"
   ]
  },
  {
   "cell_type": "code",
   "execution_count": null,
   "outputs": [],
   "source": [
    "metadata_filepath = '../user_evaluation_app/static/SpotifyAudioFeaturesApril2019_scraped_selection.csv'\n",
    "metadata = pd.read_csv(metadata_filepath)\n",
    "mp3_folder = '../user_evaluation_app/static/mp3_previews'\n",
    "mp3_files = [os.path.splitext(file)[0] for file in os.listdir(mp3_folder)] #list with stripped .mp3"
   ],
   "metadata": {
    "collapsed": false
   },
   "id": "fde13d51f463d9f6"
  },
  {
   "cell_type": "code",
   "execution_count": null,
   "outputs": [],
   "source": [
    "# Select tracks from each Spotify energy range\n",
    "metadata_sorted = metadata.sort_values(by='energy')\n",
    "quantiles = np.linspace(0, 1, 51)\n",
    "selected_energy_range_ids = []\n",
    "\n",
    "num_samples = 10\n",
    "for i in range(50):\n",
    "    start = metadata_sorted['energy'].quantile(quantiles[i])\n",
    "    end = metadata_sorted['energy'].quantile(quantiles[i+1])# Random number between 1 and 10\n",
    "    selected_ids = metadata_sorted[(metadata_sorted['energy'] >= start) & (metadata_sorted['energy'] < end)]['track_id']\n",
    "    if len(selected_ids) >= num_samples:\n",
    "        selected_energy_range_ids.extend(selected_ids.sample(num_samples).values.tolist())\n",
    "    else:\n",
    "        selected_energy_range_ids.extend(selected_ids.values.tolist())\n",
    "\n",
    "tempo_values = []\n",
    "rms_energy_values = []\n",
    "contrast_values = []\n",
    "dynamic_range_values = []\n",
    "spotify_energy_values = []\n",
    "\n",
    "for id in selected_energy_range_ids:\n",
    "    y, sr = librosa.load(f'{mp3_folder}/{id}.mp3')\n",
    "    tempo, _ = librosa.beat.beat_track(y=y, sr=sr)\n",
    "    rms_energy = librosa.feature.rms(y=y).mean()\n",
    "    spectral_contrast = librosa.feature.spectral_contrast(y=y, sr=sr).mean(axis=1)\n",
    "    contrast_avg = np.mean(spectral_contrast)\n",
    "    rms_energy_frames = librosa.feature.rms(y=y)\n",
    "    dynamic_range = np.max(rms_energy_frames) - np.min(rms_energy_frames)\n",
    "    spotify_energy = metadata.loc[metadata['track_id'] == id, 'energy'].values[0]\n",
    "\n",
    "    # Append the values to the lists\n",
    "    tempo_values.append(tempo)\n",
    "    rms_energy_values.append(rms_energy)\n",
    "    contrast_values.append(contrast_avg)\n",
    "    dynamic_range_values.append(dynamic_range)\n",
    "    spotify_energy_values.append(spotify_energy)\n",
    "\n",
    "# Create a DataFrame\n",
    "audio_features = pd.DataFrame({\n",
    "    'Tempo': tempo_values,\n",
    "    'RMS Energy': rms_energy_values,\n",
    "    'Spectral Contrast': contrast_values,\n",
    "    'Dynamic Range': dynamic_range_values,\n",
    "    'Spotify Energy': spotify_energy_values\n",
    "})"
   ],
   "metadata": {
    "collapsed": false
   },
   "id": "f756b3765bf84a6c"
  },
  {
   "cell_type": "code",
   "execution_count": null,
   "outputs": [],
   "source": [
    "# Display the audio features and spotify energy\n",
    "for feature in ['Tempo', 'RMS Energy', 'Spectral Contrast', 'Dynamic Range']:\n",
    "    plt.figure(figsize=(10, 5))\n",
    "    plt.scatter(audio_features['Spotify Energy'], audio_features[feature])\n",
    "    plt.xlabel('Spotify Energy')\n",
    "    plt.ylabel(feature)\n",
    "    plt.title(f'Spotify Energy vs {feature}')\n",
    "    plt.show()\n",
    "    correlation = audio_features['Spotify Energy'].corr(audio_features[feature])\n",
    "    print(f\"Correlation between Spotify Energy and {feature}: {correlation}\")\n",
    "    if abs(correlation) > 0.7:\n",
    "        print(f\"Very Strong correlation between Spotify Energy and {feature}\")\n",
    "    elif abs(correlation) > 0.5:\n",
    "        print(f\"Strong correlation between Spotify Energy and {feature}\")\n",
    "    elif abs(correlation) > 0.2:\n",
    "        print(f\"Moderate correlation between Spotify Energy and {feature}\")\n",
    "    else:\n",
    "        print(f\"Weak correlation between Spotify Energy and {feature}\")\n",
    "    print(\"--------------------\\n\\n\\n\")"
   ],
   "metadata": {
    "collapsed": false
   },
   "id": "691f2871af21fd0e"
  },
  {
   "cell_type": "code",
   "execution_count": null,
   "outputs": [],
   "source": [
    "from multiprocessing import Process, Queue\n",
    "\n",
    "def retrieve_energy_scores(id):\n",
    "    y, sr = librosa.load(f'{mp3_folder}/{id}.mp3')\n",
    "    rms_energy = librosa.feature.rms(y=y).mean()\n",
    "    spectral_contrast = librosa.feature.spectral_contrast(y=y, sr=sr).mean(axis=1)\n",
    "    contrast_avg = np.mean(spectral_contrast)\n",
    "    rms_energy_frames = librosa.feature.rms(y=y)\n",
    "    dynamic_range = np.max(rms_energy_frames) - np.min(rms_energy_frames)\n",
    "    \n",
    "    return (rms_energy, contrast_avg, dynamic_range)\n",
    "\n",
    "def process_mp3_files(mp3_files):\n",
    "    processes = []\n",
    "    queue = Queue()\n",
    "    \n",
    "    for id in mp3_files:\n",
    "        p = Process(target=retrieve_energy_scores, args=(id, queue))\n",
    "        processes.append(p)\n",
    "        p.start()\n",
    "    \n",
    "    for p in processes:\n",
    "        p.join()\n",
    "    \n",
    "    audio_features_energy = []\n",
    "    while not queue.empty():\n",
    "        audio_features_energy.append(queue.get())\n",
    "    \n",
    "    df = pd.DataFrame(audio_features_energy, columns=['id', 'rms_energy', 'contrast_avg', 'dynamic_range'])\n",
    "    return df\n",
    "\n",
    "audio_features_energy = process_mp3_files(mp3_files[10])\n",
    "audio_features_energy"
   ],
   "metadata": {
    "collapsed": false
   },
   "id": "20ab7336512cefc7"
  },
  {
   "cell_type": "code",
   "execution_count": null,
   "outputs": [],
   "source": [
    "n_files = len(mp3_files)\n",
    "\n",
    "rms_energy_values = np.zeros(n_files)\n",
    "contrast_values = np.zeros(n_files)\n",
    "dynamic_range_values = np.zeros(n_files)\n",
    "\n",
    "for i, id in enumerate(mp3_files[:1000]):\n",
    "    y, sr = librosa.load(f'{mp3_folder}/{id}.mp3')\n",
    "    rms_energy = librosa.feature.rms(y=y).mean()\n",
    "    spectral_contrast = librosa.feature.spectral_contrast(y=y, sr=sr).mean(axis=1)\n",
    "    contrast_avg = np.mean(spectral_contrast)\n",
    "    rms_energy_frames = librosa.feature.rms(y=y)\n",
    "    dynamic_range = np.max(rms_energy_frames) - np.min(rms_energy_frames)\n",
    "    spotify_energy = metadata.loc[metadata['track_id'] == id, 'energy'].values[0]\n",
    "\n",
    "    # Store results\n",
    "    rms_energy_values[i] = rms_energy\n",
    "    contrast_values[i] = contrast_avg\n",
    "    dynamic_range_values[i] = dynamic_range\n",
    "\n",
    "# Create a DataFrame\n",
    "audio_features = pd.DataFrame({\n",
    "    'ID' : mp3_files,\n",
    "    'RMS Energy': rms_energy_values,\n",
    "    'Spectral Contrast': contrast_values,\n",
    "    'Dynamic Range': dynamic_range_values,\n",
    "})\n",
    "audio_features"
   ],
   "metadata": {
    "collapsed": false
   },
   "id": "3be35551991f04bc"
  }
 ],
 "metadata": {
  "kernelspec": {
   "display_name": "Python 3",
   "language": "python",
   "name": "python3"
  },
  "language_info": {
   "codemirror_mode": {
    "name": "ipython",
    "version": 2
   },
   "file_extension": ".py",
   "mimetype": "text/x-python",
   "name": "python",
   "nbconvert_exporter": "python",
   "pygments_lexer": "ipython2",
   "version": "2.7.6"
  }
 },
 "nbformat": 4,
 "nbformat_minor": 5
}
