{
 "cells": [
  {
   "cell_type": "markdown",
   "source": [
    "## Timbre checks\n",
    "Check the CLMR predictions by listening"
   ],
   "metadata": {
    "collapsed": false
   },
   "id": "4513b74c7680d64"
  },
  {
   "cell_type": "code",
   "execution_count": null,
   "id": "initial_id",
   "metadata": {
    "collapsed": true
   },
   "outputs": [],
   "source": [
    "import librosa\n",
    "import pandas as pd\n",
    "import os\n",
    "from IPython.display import display, Audio\n",
    "\n",
    "# In the preprocess module, I've declared most of my functions.\n",
    "import preprocess\n",
    "import importlib\n",
    "importlib.reload(preprocess)\n",
    "\n",
    "pd.set_option('display.float_format', lambda x: f'{x:.3f}')"
   ]
  },
  {
   "cell_type": "code",
   "execution_count": null,
   "outputs": [],
   "source": [
    "# Define filepaths\n",
    "metadata_filepath = '../dataset/SpotifyAudioFeaturesApril2019_scraped_selection.csv'\n",
    "mp3_folder = '../user_evaluation_app/static/mp3_previews'\n",
    "mp3_files = [os.path.join(mp3_folder, file) for file in os.listdir(mp3_folder) if file.endswith('.mp3')]\n",
    "data_folder = 'clmr_predictions'\n",
    "\n",
    "# For testing purposes, optionally limit the number of files.\n",
    "# mp3_files = mp3_files[:200]"
   ],
   "metadata": {
    "collapsed": false
   },
   "id": "5dd797b3c2c5d91a"
  },
  {
   "cell_type": "code",
   "execution_count": null,
   "outputs": [],
   "source": [
    "clmr_predictions = preprocess.load_dataframe_if_exists_else_process_and_save(data_folder, mp3_files, preprocess.process_audio_files_CLMR, preprocess.save_dataframe_to_csv)\n",
    "clmr_predictions"
   ],
   "metadata": {
    "collapsed": false
   },
   "id": "2fe1f0dd7ca95531"
  },
  {
   "cell_type": "code",
   "execution_count": null,
   "outputs": [],
   "source": [
    "# Load metadata\n",
    "metadata = pd.read_csv(metadata_filepath)"
   ],
   "metadata": {
    "collapsed": false
   },
   "id": "7cd15287d5766d81"
  },
  {
   "cell_type": "code",
   "execution_count": null,
   "outputs": [],
   "source": [
    "def display_audio(id, plot = True, metadata = metadata, mp3_folder = mp3_folder, clmr_predictions = clmr_predictions):\n",
    "    song_metadata = metadata[metadata['track_id'] == id]\n",
    "    artist_name = song_metadata.iloc[0]['artist_name']\n",
    "    track_name = song_metadata.iloc[0]['track_name']\n",
    "    print(f\"Artist: {artist_name}, Track: {track_name} \\n ID: {id}\")\n",
    "    y, sr = librosa.load(f'{mp3_folder}/{id}.mp3')\n",
    "    display(Audio(data=y, rate=sr))\n",
    "    if plot:\n",
    "        preprocess.plot_predictions(clmr_predictions.loc[id])\n",
    "    return None"
   ],
   "metadata": {
    "collapsed": false
   },
   "id": "a665e9611ea68322"
  },
  {
   "cell_type": "code",
   "execution_count": null,
   "outputs": [],
   "source": [
    "# Sanity check. Listen to the music and see if the predictions make sense.\n",
    "id = '4WxkqmbuOZD9xruYGp85rp'\n",
    "display_audio(id)"
   ],
   "metadata": {
    "collapsed": false
   },
   "id": "f8f719ab50b0cccb"
  },
  {
   "cell_type": "code",
   "execution_count": null,
   "outputs": [],
   "source": [
    "# Compute similarity matrix\n",
    "similarity_df = preprocess.compute_similarity_matrix(clmr_predictions, clmr_predictions.index, clmr_predictions.columns)"
   ],
   "metadata": {
    "collapsed": false
   },
   "id": "8a02572e9b4e584b"
  },
  {
   "cell_type": "code",
   "execution_count": null,
   "outputs": [],
   "source": [
    "def print_most_similar(target_id, nearest_neighbors, plot = False, metadata = metadata, mp3_folder=mp3_folder):\n",
    "    display_audio(target_id, plot, metadata, mp3_folder)\n",
    "    counter = 0\n",
    "    for neighbor_id, score in nearest_neighbors:\n",
    "        counter += 1\n",
    "        print(f\"{counter}. Similarity: {score:.2f}\")\n",
    "        display_audio(neighbor_id, plot)\n",
    "    return None"
   ],
   "metadata": {
    "collapsed": false
   },
   "id": "5ede1f4254747a2c"
  },
  {
   "cell_type": "code",
   "execution_count": null,
   "outputs": [],
   "source": [
    "target_id = '0dCXn1KGyWYe1d94pNb4Cd'\n",
    "n_neighbors = 3\n",
    "nearest_neighbors = preprocess.find_most_similar(similarity_df , target_id, n_neighbors)\n",
    "print_most_similar(target_id, nearest_neighbors)"
   ],
   "metadata": {
    "collapsed": false
   },
   "id": "61259e6764a9a501"
  },
  {
   "cell_type": "markdown",
   "source": [],
   "metadata": {
    "collapsed": false
   },
   "id": "95f07c0b3ac7f3da"
  }
 ],
 "metadata": {
  "kernelspec": {
   "display_name": "Python 3",
   "language": "python",
   "name": "python3"
  },
  "language_info": {
   "codemirror_mode": {
    "name": "ipython",
    "version": 2
   },
   "file_extension": ".py",
   "mimetype": "text/x-python",
   "name": "python",
   "nbconvert_exporter": "python",
   "pygments_lexer": "ipython2",
   "version": "2.7.6"
  }
 },
 "nbformat": 4,
 "nbformat_minor": 5
}
