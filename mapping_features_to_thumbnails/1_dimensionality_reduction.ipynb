{
 "cells": [
  {
   "cell_type": "markdown",
   "source": [
    "# Dimensionality Reduction\n",
    "Input: the dataset with all labels.\n",
    "Output: a dataset with the new (fewer) labels.\n",
    "\n",
    "Label all instruments, add those together that have high correlation.\n",
    "Make a t-sne space for the genres.\n"
   ],
   "metadata": {
    "collapsed": false
   },
   "id": "54d3ed6ff084bb8a"
  },
  {
   "cell_type": "code",
   "execution_count": null,
   "id": "initial_id",
   "metadata": {
    "collapsed": true
   },
   "outputs": [],
   "source": [
    "import pandas as pd\n",
    "\n",
    "import importlib\n",
    "from IPython.display import display, Audio\n",
    "\n",
    "import preprocess\n",
    "import dimensionality_reduction\n",
    "importlib.reload(preprocess)\n",
    "importlib.reload(dimensionality_reduction)\n",
    "\n",
    "pd.set_option('display.float_format', lambda x: f'{x:.3f}')"
   ]
  },
  {
   "cell_type": "code",
   "execution_count": null,
   "outputs": [],
   "source": [
    "metadata_path = '../feature_extraction/audio_features/20240616_4698tracks.csv'\n",
    "mp3_folder = '../user_evaluation_app/static/mp3_previews'\n",
    "output_folder = 'fewer_labels_audio_feautures'"
   ],
   "metadata": {
    "collapsed": false
   },
   "id": "78d165302d89d482"
  },
  {
   "cell_type": "code",
   "execution_count": null,
   "outputs": [],
   "source": [
    "# Load the dataset\n",
    "metadata = pd.read_csv(metadata_path, index_col='track_id')\n",
    "# select the columns that start with MTT\n",
    "mtt_metadata = metadata.filter(regex='^MTT', axis=1)\n"
   ],
   "metadata": {
    "collapsed": false
   },
   "id": "4200e3f11eb0750c"
  },
  {
   "cell_type": "code",
   "execution_count": null,
   "outputs": [],
   "source": [
    "dimensionality_reduction.list_strongest_correlations(mtt_metadata, 50)"
   ],
   "metadata": {
    "collapsed": false
   },
   "id": "60a74954da48d29"
  },
  {
   "cell_type": "markdown",
   "source": [
    "# Label merging"
   ],
   "metadata": {
    "collapsed": false
   },
   "id": "decbe32d4155ab58"
  },
  {
   "cell_type": "code",
   "execution_count": null,
   "outputs": [],
   "source": [
    "pairs_to_merge = [('MTT choir', 'MTT choral', 'Choir'), \n",
    "                    ('MTT male', 'MTT male vocal', 'Male Vocal'),\n",
    "                    ('MTT classical', 'MTT classic', 'Classical'),\n",
    "                    ('MTT man', 'Male Vocal', 'M Vocal'),\n",
    "                    ('MTT male voice', 'M Vocal', 'M Voice'),\n",
    "                    ('MTT vocal', 'MTT vocals', 'Vocals'), \n",
    "                    ('MTT singing', 'Vocals', 'VoiceA'),                    \n",
    "                    ('MTT female', 'MTT female vocal', 'F Vocal'),\n",
    "                    ('MTT woman', 'F Vocal', 'F Voice'),\n",
    "                    ('MTT beat', 'MTT beats', 'Beats'),\n",
    "                    ('MTT female voice', 'F Voice', 'F VoiceA'),\n",
    "                    ('MTT quiet', 'MTT soft', 'Quiet'),\n",
    "                    ('MTT strings', 'MTT violin', 'StringsA'),\n",
    "                    ('MTT no vocals', 'MTT no vocal', 'No Vocals'),\n",
    "                    ('MTT no voice', 'No Vocals', 'No Voice'),\n",
    "                    ('MTT voice', 'M Voice', 'VoiceB'),\n",
    "                    ('VoiceA', 'VoiceB', 'VoiceC'),\n",
    "                    ('MTT cello', 'StringsA', 'Strings'),\n",
    "                    ('F VoiceA', 'VoiceC', 'Voice'),\n",
    "                    ('MTT harpsichord', 'MTT harp', 'Harp and Harpsichord'),\n",
    "                    ]"
   ],
   "metadata": {
    "collapsed": false
   },
   "id": "3ca71d0b2d364b94"
  },
  {
   "cell_type": "code",
   "execution_count": null,
   "outputs": [],
   "source": [
    "new_df_avg = dimensionality_reduction.create_averaged_columns(mtt_metadata, pairs_to_merge)\n",
    "new_df_sum = dimensionality_reduction.create_summed_columns(mtt_metadata, pairs_to_merge)\n",
    "dimensionality_reduction.list_strongest_correlations(new_df_sum, 50)"
   ],
   "metadata": {
    "collapsed": false
   },
   "id": "b76b71a2f31de63b"
  },
  {
   "cell_type": "code",
   "execution_count": null,
   "outputs": [],
   "source": [
    "print(f\"Max value: {new_df_sum.describe().loc['max'].max()}, which remains below 1.\")\n",
    "new_df_sum.describe().loc['max'].sort_values(ascending=False)"
   ],
   "metadata": {
    "collapsed": false
   },
   "id": "311586b96d9862d0"
  },
  {
   "cell_type": "markdown",
   "source": [
    "Check that by merging by adding the columns together, the predictions do not exceed 1. They do not, so the merging might work best by adding. Check this manually."
   ],
   "metadata": {
    "collapsed": false
   },
   "id": "52d512afa11816cb"
  },
  {
   "cell_type": "markdown",
   "source": [
    "# Rename the labels, merge with the untouched metadata\n"
   ],
   "metadata": {
    "collapsed": false
   },
   "id": "c3d8ccb3440b1cdf"
  },
  {
   "cell_type": "code",
   "execution_count": null,
   "outputs": [],
   "source": [
    "new_colnames = {'MTT guitar': 'guitar', 'MTT slow': 'slow', 'MTT techno': 'techno', \n",
    "                'MTT drums': 'drums', 'MTT electronic': 'electronic', 'MTT rock': 'rock', \n",
    "                'MTT fast': 'fast', 'MTT piano': 'piano', 'MTT ambient': 'ambient', 'MTT synth': 'synth',\n",
    "                'MTT indian': 'indian', 'MTT opera': 'opera', 'Harp and Harpsichord': 'harp', 'MTT loud': 'loud',\n",
    "                'MTT flute': 'flute', 'MTT pop': 'pop', 'MTT sitar': 'sitar', 'MTT solo': 'solo', 'MTT new age': 'new age',\n",
    "                'MTT dance': 'dance', 'MTT harp': 'harp', 'MTT weird': 'weird', 'MTT country': 'country', 'MTT metal': 'metal',\n",
    "                'Choir': 'choir', 'Classical': 'classical', 'Beats': 'beats', 'Quiet': 'quiet', 'No Voice': 'no voice',\n",
    "                'Strings': 'strings', 'Voice': 'voice'}\n",
    "\n",
    "\n",
    "new_df_sum_renamed_labels = new_df_sum.rename(columns=new_colnames)\n",
    "new_df_avg_renamed_labels = new_df_avg.rename(columns=new_colnames)\n",
    "\n",
    "new_df_renamed_labels = new_df_sum_renamed_labels\n",
    "new_df_renamed_labels['voice'] = new_df_renamed_labels['voice'] /2\n",
    "new_df_renamed_labels['strings'] = new_df_renamed_labels['strings']\n",
    "\n",
    "display(new_df_renamed_labels.columns)"
   ],
   "metadata": {
    "collapsed": false
   },
   "id": "a694b9c3a30d3bc8"
  },
  {
   "cell_type": "markdown",
   "source": [
    "Lower voice channel slightly by dividing by 2."
   ],
   "metadata": {
    "collapsed": false
   },
   "id": "4de35353f1a461f1"
  },
  {
   "cell_type": "code",
   "execution_count": null,
   "outputs": [],
   "source": [
    "instruments = ['voice', 'choir', 'harp', 'strings', 'no voice', 'guitar', 'drums', 'piano', 'flute', 'sitar', 'synth']\n",
    "genres = ['ambient', 'techno', 'electronic', 'rock', 'pop', 'dance', 'classical', 'opera', 'new age', 'indian', 'weird', 'country', 'metal']\n",
    "other = ['fast', 'slow', 'loud', 'solo', 'beats','quiet']\n",
    "print(f\"{len(new_df_renamed_labels.columns)} labels = {len(genres)+len(instruments)+len(other)} labels\")"
   ],
   "metadata": {
    "collapsed": false
   },
   "id": "63a88a58de4bdbdb"
  },
  {
   "cell_type": "code",
   "execution_count": null,
   "outputs": [],
   "source": [
    "rename_dict = {col: f'o {col}' for col in other}\n",
    "rename_dict.update({col: f'i {col}' for col in instruments})\n",
    "rename_dict.update({col: f'g {col}' for col in genres})\n",
    "new_df_renamed_labels = new_df_renamed_labels.rename(columns=rename_dict)\n",
    "new_df_renamed_labels"
   ],
   "metadata": {
    "collapsed": false
   },
   "id": "bc247e291977cfd1"
  },
  {
   "cell_type": "code",
   "execution_count": null,
   "outputs": [],
   "source": [
    "# Merge the DataFrames on 'track_id', but only keep the columns that do not start with 'MTT'\n",
    "merged_df = pd.merge(metadata.filter(regex='^(?!MTT)', axis=1), new_df_renamed_labels, on=\"track_id\")\n",
    "merged_df"
   ],
   "metadata": {
    "collapsed": false
   },
   "id": "b028f9408760486e"
  },
  {
   "cell_type": "markdown",
   "source": [
    "# PCA for the genres"
   ],
   "metadata": {
    "collapsed": false
   },
   "id": "5578e1b279e76627"
  },
  {
   "cell_type": "code",
   "execution_count": null,
   "outputs": [],
   "source": [
    "genre_features = merged_df.filter(regex='^g', axis=1)\n",
    "genre_features"
   ],
   "metadata": {
    "collapsed": false
   },
   "id": "41e50771119d234b"
  },
  {
   "cell_type": "code",
   "execution_count": null,
   "outputs": [],
   "source": [
    "import pandas as pd\n",
    "from sklearn.manifold import TSNE\n",
    "\n",
    "# Create a TSNE instance\n",
    "tsne_2d = TSNE(n_components=2, random_state=1)\n",
    "\n",
    "# Fit and transform the data\n",
    "tsne_components_2d = tsne_2d.fit_transform(genre_features)\n",
    "\n",
    "# Convert t-SNE components to a DataFrame\n",
    "tsne_2d_genre_df = pd.DataFrame(data=tsne_components_2d, columns=[f'TSNE{i+1}' for i in range(tsne_components_2d.shape[1])], index=genre_features.index)"
   ],
   "metadata": {
    "collapsed": false
   },
   "id": "5e5499ecfb9b9232"
  },
  {
   "cell_type": "code",
   "execution_count": null,
   "outputs": [],
   "source": [
    "import matplotlib.pyplot as plt\n",
    "plt.figure(figsize=(8, 6))  \n",
    "plt.scatter(tsne_2d_genre_df['TSNE1'], tsne_2d_genre_df['TSNE2'], c='lightblue', label='Data Points')  \n",
    "\n",
    "plt.title('t-SNE 2D Scatter Plot')\n",
    "plt.xlabel('TSNE1')\n",
    "plt.ylabel('TSNE2')\n",
    "\n",
    "plt.legend()\n",
    "plt.show()"
   ],
   "metadata": {
    "collapsed": false
   },
   "id": "a253b35c6856d6"
  },
  {
   "cell_type": "code",
   "execution_count": null,
   "outputs": [],
   "source": [
    "#linearly scale the 2d tsne to 0-1\n",
    "def scale_column(col):\n",
    "    return (col - col.min()) / (col.max() - col.min())\n",
    "\n",
    "tsne_2d_genre_df_scaled = tsne_2d_genre_df.apply(scale_column, axis = 0)\n",
    "tsne_2d_genre_df_scaled.describe()"
   ],
   "metadata": {
    "collapsed": false
   },
   "id": "57d3ee7a90fdf316"
  },
  {
   "cell_type": "code",
   "execution_count": null,
   "outputs": [],
   "source": [
    "# Prefix the columns of tsne_2d_genre_df with \"g \"\n",
    "tsne_2d_genre_df_prefixed = tsne_2d_genre_df_scaled.add_prefix('g ')\n",
    "without_old_genres = merged_df.filter(regex='^g', axis=1)\n",
    "with_PCA_genres_df = merged_df.merge(tsne_2d_genre_df_prefixed, on='track_id')\n",
    "with_PCA_genres_df"
   ],
   "metadata": {
    "collapsed": false
   },
   "id": "fb4119b8ad2b94b5"
  },
  {
   "cell_type": "code",
   "execution_count": null,
   "outputs": [],
   "source": [
    "# add new columns to input dataframe\n",
    "removed_genres = merged_df.filter(regex='^(?!g)', axis=1)\n",
    "removed_genres\n",
    "merged_df_output = pd.merge(removed_genres, tsne_2d_genre_df_prefixed, on='track_id')\n",
    "merged_df_output"
   ],
   "metadata": {
    "collapsed": false
   },
   "id": "ea4aca8c21fc1783"
  },
  {
   "cell_type": "markdown",
   "source": [
    "# Save to file"
   ],
   "metadata": {
    "collapsed": false
   },
   "id": "c5a673444b28cf00"
  },
  {
   "cell_type": "code",
   "execution_count": null,
   "outputs": [],
   "source": [
    "merged_df_output.to_csv(\"dimensionality_reduced.csv\", index_label='track_id')\n",
    "# load with\n",
    "#pd.read_csv(\"dimensionality_reduced.csv\", index_col='track_id')"
   ],
   "metadata": {
    "collapsed": false
   },
   "id": "7a5cc3be4fa7e063"
  }
 ],
 "metadata": {
  "kernelspec": {
   "display_name": "Python 3",
   "language": "python",
   "name": "python3"
  },
  "language_info": {
   "codemirror_mode": {
    "name": "ipython",
    "version": 2
   },
   "file_extension": ".py",
   "mimetype": "text/x-python",
   "name": "python",
   "nbconvert_exporter": "python",
   "pygments_lexer": "ipython2",
   "version": "2.7.6"
  }
 },
 "nbformat": 4,
 "nbformat_minor": 5
}
