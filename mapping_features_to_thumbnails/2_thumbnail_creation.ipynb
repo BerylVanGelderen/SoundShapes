{
 "cells": [
  {
   "cell_type": "markdown",
   "source": [],
   "metadata": {
    "collapsed": false
   },
   "id": "dcb195b37f5dd071"
  },
  {
   "cell_type": "markdown",
   "source": [
    "# Thumbnail creation\n",
    "input: dimensionality reduced audio features\n",
    "output: thumbnail images"
   ],
   "metadata": {
    "collapsed": false
   },
   "id": "fce8d47aa6246998"
  },
  {
   "cell_type": "markdown",
   "source": [
    "## Import libraries and (filepaths to) audio (features)"
   ],
   "metadata": {
    "collapsed": false
   },
   "id": "ede6a27ee5afdae3"
  },
  {
   "cell_type": "code",
   "execution_count": null,
   "outputs": [],
   "source": [
    "import pandas as pd\n",
    "import librosa\n",
    "import importlib\n",
    "from IPython.display import display, Audio\n",
    "from datetime import datetime\n",
    "\n",
    "\n",
    "import thumbnail_canvas_functions as tcf\n",
    "importlib.reload(tcf)\n",
    "\n",
    "pd.set_option('display.float_format', lambda x: f'{x:.3f}')"
   ],
   "metadata": {
    "collapsed": false
   },
   "id": "809d2f3baffa108a"
  },
  {
   "cell_type": "code",
   "execution_count": null,
   "outputs": [],
   "source": [
    "mp3_folder = '../user_evaluation_app/static/mp3_previews'\n",
    "audio_features_loc = 'dimensionality_reduced.csv'\n",
    "\n",
    "today = datetime.now().strftime('%Y%m%d')\n",
    "\n",
    "# output folder base name\n",
    "output_folder = f'{today}_thumbnails_tsne'"
   ],
   "metadata": {
    "collapsed": false
   },
   "id": "1531b0343b8835d2"
  },
  {
   "cell_type": "code",
   "execution_count": null,
   "outputs": [],
   "source": [
    "audio_features = pd.read_csv(audio_features_loc, index_col='track_id')\n",
    "audio_features"
   ],
   "metadata": {
    "collapsed": false
   },
   "id": "c06038630c4b529a"
  },
  {
   "cell_type": "markdown",
   "source": [
    "## Create the radar chart thumbnail"
   ],
   "metadata": {
    "collapsed": false
   },
   "id": "d531fc2e74b11f52"
  },
  {
   "cell_type": "code",
   "execution_count": null,
   "outputs": [],
   "source": [
    "instrument_features = audio_features.filter(regex='^i', axis=1)\n",
    "instrument_labels_list = ['i voice','i choir','i flute', 'i strings','i harp', 'i piano','i guitar','i drums', 'i synth']\n",
    "# Remove the 'i ' prefix from each element\n",
    "instrument_labels_list_without_prefix = [label[2:] if label.startswith('i ') else label for label in instrument_labels_list]"
   ],
   "metadata": {
    "collapsed": false
   },
   "id": "d0bb7aef21991c05"
  },
  {
   "cell_type": "code",
   "execution_count": null,
   "outputs": [],
   "source": [
    "def display_audio(id, show_metadata = True, show_song = True, metadata = audio_features, mp3_folder = mp3_folder):\n",
    "    if show_metadata:\n",
    "        song_metadata = metadata.loc[id]\n",
    "        artist_name = song_metadata.loc['spotify artist_name']\n",
    "        track_name = song_metadata.loc['spotify track_name']\n",
    "        print(f\"Artist: {artist_name}, Track: {track_name} \\n ID: {id}\")\n",
    "        #print(metadata.loc[id])\n",
    "    if show_song:\n",
    "        y, sr = librosa.load(f'{mp3_folder}/{id}.mp3')\n",
    "        display(Audio(data=y, rate=sr))\n",
    "    return None"
   ],
   "metadata": {
    "collapsed": false
   },
   "id": "9d2234655d1eb12d"
  },
  {
   "cell_type": "markdown",
   "source": [
    "# Create genre colors to fill the radar chart"
   ],
   "metadata": {
    "collapsed": false
   },
   "id": "b111564f106751bf"
  },
  {
   "cell_type": "code",
   "execution_count": null,
   "outputs": [],
   "source": [
    "genre_features = audio_features.filter(regex='^g', axis=1)\n"
   ],
   "metadata": {
    "collapsed": false
   },
   "id": "e7c3dd3d573e35f"
  },
  {
   "cell_type": "code",
   "execution_count": null,
   "outputs": [],
   "source": [
    "import colorsys\n",
    "\n",
    "# Function to convert HSV to RGB and then to hexadecimal\n",
    "def hsv_to_rgb(row):\n",
    "    h, s, v = row['g TSNE1']*0.9, row['g TSNE2'], 1- (row['g TSNE2']* 0.6)\n",
    "    r, g, b = colorsys.hsv_to_rgb(h, s, v)\n",
    "    return r, g, b\n",
    "\n",
    "import colorsys\n",
    "\n",
    "genre_features['g rgb color'] = pd.DataFrame(genre_features.apply(lambda row: hsv_to_rgb(row), axis = 1))\n",
    "\n",
    "genre_features\n"
   ],
   "metadata": {
    "collapsed": false
   },
   "id": "59218de6772588ae"
  },
  {
   "cell_type": "code",
   "execution_count": null,
   "outputs": [],
   "source": [
    "audio_features['g rgb color'] = genre_features['g rgb color']\n",
    "audio_features"
   ],
   "metadata": {
    "collapsed": false
   },
   "id": "c5706fb6d729ba5c"
  },
  {
   "cell_type": "markdown",
   "source": [
    "# Create SoundShapes"
   ],
   "metadata": {
    "collapsed": false
   },
   "id": "c564c86e01b0aabb"
  },
  {
   "cell_type": "code",
   "execution_count": null,
   "outputs": [],
   "source": [
    "audio_features.apply(lambda x: tcf.create_thumbnail(x, display=False, size=600, debug=False, dest_folder=f'{output_folder}_{len(audio_features.index)}'), axis=1)\n",
    "# \n",
    "print(f'{len(audio_features.index)} thumbnails created and stored in output folder starting with {output_folder}_{len(audio_features.index)}')"
   ],
   "metadata": {
    "collapsed": false
   },
   "id": "e28a77e3d9847cc5"
  },
  {
   "cell_type": "code",
   "execution_count": null,
   "outputs": [],
   "source": [],
   "metadata": {
    "collapsed": false
   },
   "id": "73c77ba86d15c33a"
  }
 ],
 "metadata": {
  "kernelspec": {
   "display_name": "Python 3",
   "language": "python",
   "name": "python3"
  },
  "language_info": {
   "codemirror_mode": {
    "name": "ipython",
    "version": 2
   },
   "file_extension": ".py",
   "mimetype": "text/x-python",
   "name": "python",
   "nbconvert_exporter": "python",
   "pygments_lexer": "ipython2",
   "version": "2.7.6"
  }
 },
 "nbformat": 4,
 "nbformat_minor": 5
}
